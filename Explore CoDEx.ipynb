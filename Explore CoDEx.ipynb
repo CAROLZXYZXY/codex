{
 "cells": [
  {
   "cell_type": "code",
   "execution_count": 1,
   "metadata": {},
   "outputs": [],
   "source": [
    "import numpy as np\n",
    "import pandas as pd\n",
    "\n",
    "from codex import Codex"
   ]
  },
  {
   "cell_type": "code",
   "execution_count": 2,
   "metadata": {},
   "outputs": [],
   "source": [
    "sizes = Codex.SIZES\n",
    "codes = Codex.CODES"
   ]
  },
  {
   "cell_type": "markdown",
   "metadata": {},
   "source": [
    "# Data exploration\n",
    "Load our data and do basic exploratory analysis."
   ]
  },
  {
   "cell_type": "code",
   "execution_count": 3,
   "metadata": {},
   "outputs": [
    {
     "name": "stdout",
     "output_type": "stream",
     "text": [
      "CoDEx-S\n",
      "  2034 entities / 42 relations\n",
      "  32888 train / 1827 validation / 1828 test\n",
      "  36543 total triples\n",
      "CoDEx-M\n",
      "  17050 entities / 51 relations\n",
      "  185584 train / 10310 validation / 10311 test\n",
      "  206205 total triples\n",
      "CoDEx-L\n",
      "  77951 entities / 69 relations\n",
      "  551193 train / 30622 validation / 30622 test\n",
      "  612437 total triples\n"
     ]
    }
   ],
   "source": [
    "for size in sizes:\n",
    "    codex = Codex(size=size)\n",
    "    \n",
    "    train, valid, test = [\n",
    "        codex.split(split) for split in ('train', 'valid', 'test')]\n",
    "    triples = codex.triples()\n",
    "    \n",
    "    print(codex.name())\n",
    "    \n",
    "    print(\n",
    "        ' ', len(codex.entities()), 'entities /',\n",
    "        len(codex.relations()), 'relations'\n",
    "    )\n",
    "        \n",
    "    print(\n",
    "        ' ', len(train), 'train /',\n",
    "        len(valid), 'validation /',\n",
    "        len(test), 'test'\n",
    "    )\n",
    "    print(' ', len(triples), 'total triples')"
   ]
  },
  {
   "cell_type": "markdown",
   "metadata": {},
   "source": [
    "Inspect a single entity."
   ]
  },
  {
   "cell_type": "code",
   "execution_count": 4,
   "metadata": {},
   "outputs": [
    {
     "name": "stdout",
     "output_type": "stream",
     "text": [
      "القارة القطبية الجنوبية\n",
      "Antarktika\n",
      "Antarctica\n",
      "Antártida\n",
      "Антарктида\n",
      "南极洲\n"
     ]
    }
   ],
   "source": [
    "eid = 'Q51'\n",
    "\n",
    "for code in codes:\n",
    "    codex = Codex(code=code)\n",
    "    print(codex.entity_label(eid))"
   ]
  },
  {
   "cell_type": "code",
   "execution_count": 5,
   "metadata": {},
   "outputs": [
    {
     "name": "stdout",
     "output_type": "stream",
     "text": [
      "From https://en.wikipedia.org/wiki/Antarctica:\n",
      "  \"Antarctica ( or  (listen)) is Earth's southernmost continent. It contains the geographic South Pole and is situated in the Antarctic region of the Southern Hemisphere, almost entirely south of the Antarctic Circle, and is surrounded by the Southern Ocean. At 14,200,000 square kilometres (5,500,000 square miles), it is the fifth-largest continent and nearly twice the size of Australia. At 0.00008 people per square kilometre, it is by far the least densely populated continent. About 98% of Antarctica is covered by ice that averages 1.9 km (1.2 mi; 6,200 ft) in thickness, which extends to all but the northernmost reaches of the Antarctic Peninsula.\n",
      "Antarctica, on average, is the coldest, driest, and windiest continent, and has the highest average elevation of all the continents. Most of Antarctica is a polar desert, with annual precipitation of 200 mm (7.9 in) along the coast and far less inland; there has been no rain there for almost 2 million years, yet 80% of the world freshwater reserves are stored there, enough to raise global sea levels by about 60 m (100 ft) if all of it were to melt. The temperature in Antarctica has reached −89.2 °C (−128.6 °F) (or even −94.7 °C (−135.8 °F) as measured from space), though the average for the third quarter (the coldest part of the year) is −63 °C (−81 °F). Anywhere from 1,000 to 5,000 people reside throughout the year at research stations scattered across the continent. Organisms native to Antarctica include many types of algae, bacteria, fungi, plants, protista, and certain animals, such as mites, nematodes, penguins, seals and tardigrades. Vegetation, where it occurs, is tundra.\n",
      "Antarctica is noted as the last region on Earth in recorded history to be discovered, unseen until 1820 when the Russian expedition of Fabian Gottlieb von Bellingshausen and Mikhail Lazarev on Vostok and Mirny sighted the Fimbul ice shelf. The continent, however, remained largely neglected for the rest of the 19th century because of its hostile environment, lack of easily accessible resources, and isolation. In 1895, the first confirmed landing was conducted by a team of Norwegians. Antarctica's buried active volcanoes weren't discovered until 2013.Antarctica is a de facto condominium, governed by parties to the Antarctic Treaty System that have consulting status. Twelve countries signed the Antarctic Treaty in 1959, and thirty-eight have signed it since then. The treaty prohibits military activities and mineral mining, prohibits nuclear explosions and nuclear waste disposal, supports scientific research, and protects the continent's ecozone. Ongoing experiments are conducted by more than 4,000 scientists from many nations.\"\n"
     ]
    }
   ],
   "source": [
    "codex = Codex(code='en')\n",
    "print('From {}:'.format(codex.entity_wikipedia_url(eid)))\n",
    "print('  \"{}\"'.format(codex.entity_extract(eid)))"
   ]
  },
  {
   "cell_type": "code",
   "execution_count": 6,
   "metadata": {},
   "outputs": [
    {
     "name": "stdout",
     "output_type": "stream",
     "text": [
      "From https://es.wikipedia.org/wiki/Ant%C3%A1rtida:\n",
      "  \"La Antártida[2]​ o continente antártico (del adjetivo latino antarcticus, y este a su vez del griego ανταρκτικός antarktikós, ‘opuesto al Ártico’),[2]​ también denominada Antártica en Chile,[2]​ es el continente más austral de la Tierra. Está situada completamente en el hemisferio sur, casi enteramente al sur del círculo polar antártico y está rodeada por el océano Antártico. Contiene el polo sur geográfico, por lo que de manera coloquial y por extensión también es conocida de manera errónea como el polo sur. Con 14 000 000 km², es el cuarto continente más grande después de Asia, América y África.[1]​ En comparación con Oceanía, la Antártida es casi dos veces su tamaño. Alrededor del 98 % de la Antártida está cubierta de hielo, que tiene un promedio de 1,9 km de espesor,[3]​ que se extiende a todos los puertos, excepto a los más septentrionales de la península Antártica.\n",
      "La Antártida, de promedio, es el continente más frío, seco y ventoso, y tiene la altitud media más alta de todos los continentes.[4]​ La Antártida es un desierto, con precipitaciones anuales de solo 200 mm en la zona costera y mucho menos tierra adentro.[5]​ La temperatura en la Antártida ha alcanzado los -89,2 °C, aunque la media del tercer trimestre (la parte más fría del año) es de -63 °C. Hacia 2016, había alrededor de 135 residentes permanentes, pero en las estaciones de investigación dispersas en todo el continente residen entre 1000 y 5000 personas durante todo el año. Los organismos nativos de la Antártida incluyen muchos tipos de algas, bacterias, hongos, plantas, protistas, y ciertos animales, tales como ácaros, nematodos, pingüinos, pinnípedos y tardígrados. El tipo de vegetación que se presenta en algunas zonas reducidas es la tundra.\n",
      "A pesar de los mitos y las especulaciones sobre la Terra Australis Ignota («la tierra desconocida del sur») que se remontan a la antigüedad, la Antártida fue la última región de la Tierra en ser descubierta y/o colonizada por los humanos, siendo avistada por primera vez en el verano austral de 1603 por el navegante español Gabriel de Castilla. Posteriormente, en 1820, fue avistada por los exploradores rusos Fabian Gottlieb von Bellingshausen y Mijaíl Lázarev en el Vostok y Mirni, que descubrieron la barrera de hielo Fimbul. El continente, sin embargo, permaneció inexplorado casi todo el siglo XIX debido a su ambiente hostil y al aislamiento. En 1895, el primer desembarco confirmado fue dirigido por un grupo noruego.\n",
      "La Antártida es de facto un condominio, que se rige por el Tratado Antártico que tiene estatus de consultoría. Doce países firmaron el Tratado Antártico en 1959 y treinta y ocho lo han firmado desde entonces. El tratado prohíbe las actividades militares y la extracción de minerales, prohíbe las explosiones nucleares y la eliminación de residuos nucleares, apoya la investigación científica, y protege la ecozona en el continente. Se encuentran en curso experimentos conducidos por más de 4000 científicos de varias naciones.\"\n"
     ]
    }
   ],
   "source": [
    "codex = Codex(code='es')\n",
    "print('From {}:'.format(codex.entity_wikipedia_url(eid)))\n",
    "print('  \"{}\"'.format(codex.entity_extract(eid)))"
   ]
  },
  {
   "cell_type": "markdown",
   "metadata": {},
   "source": [
    "Explore entity types."
   ]
  },
  {
   "cell_type": "code",
   "execution_count": 7,
   "metadata": {},
   "outputs": [
    {
     "name": "stdout",
     "output_type": "stream",
     "text": [
      "Antarctica is of type continent\n",
      "Antarctica is of type geographic region\n"
     ]
    }
   ],
   "source": [
    "codex = Codex(code='en')\n",
    "types = codex.entity_types(eid)\n",
    "for etype in types:\n",
    "    print(codex.entity_label(eid), 'is of type', codex.entity_type_label(etype))"
   ]
  },
  {
   "cell_type": "code",
   "execution_count": 8,
   "metadata": {},
   "outputs": [
    {
     "name": "stdout",
     "output_type": "stream",
     "text": [
      "From https://en.wikipedia.org/wiki/Human:\n",
      "  Humans (Homo sapiens) are the only extant members of the subtribe Hominina. Together with chimpanzees, gorillas, and orangutans, they are part of the family Hominidae (the great apes, or hominids). Humans are terrestrial animals, characterized by their erect posture and bipedal locomotion; high manual dexterity and heavy tool use compared to other animals; open-ended and complex language use compared to other animal communications; larger, more complex brains than other animals; and highly advanced and organized societies.Early hominins—particularly the australopithecines, whose brains and anatomy are in many ways more similar to ancestral non-human apes—are less often referred to as \"human\" than hominins of the genus Homo. Several of these hominins used fire, occupied much of Eurasia, and the lineage that later that gave rise to Homo sapiens is thought to have diverged in Africa from other known hominins around 500,000 years ago, with the earliest fossil evidence of Homo sapiens appearing (also in Africa) around 300,000 years ago. The oldest early H. sapiens fossils were found in Jebel Irhoud, Morocco dating to about 315,000 years ago. As of 2017, the oldest known skeleton of an anatomically modern Homo sapiens is the Omo-Kibish I, dated to about 196,000 years ago and discovered in southern Ethiopia.. Humans began to exhibit evidence of behavioral modernity at least by about 100,000–70,000 years ago and (according to recent evidence) as far back as around 300,000 years ago, in the Middle Stone Age.In several waves of migration, H. sapiens ventured out of Africa and populated most of the world.The spread of the large and increasing population of humans has profoundly affected much of the biosphere and millions of species worldwide. Advantages that explain this evolutionary success include a larger brain with a well-developed neocortex, prefrontal cortex and temporal lobes, which enable advanced abstract reasoning, language, problem solving, sociality, and culture through social learning. Humans use tools more frequently and effectively than any other animal: they are the only extant species to build fires, cook food, clothe themselves, and create and use numerous other technologies and arts.\n",
      "Humans uniquely use such systems of symbolic communication as language and art to express themselves and exchange ideas, and also organize themselves into purposeful groups. Humans create complex social structures composed of many cooperating and competing groups, from families and kinship networks to political states. Social interactions between humans have established an extremely wide variety of values, social norms, and rituals, which together undergird human society. Curiosity and the human desire to understand and influence the environment and to explain and manipulate phenomena (or events) have motivated humanity's development of science, philosophy, mythology, religion, and numerous other fields of knowledge.\n",
      "Though most of human existence has been sustained by hunting and gathering in band societies, many human societies transitioned to sedentary agriculture approximately 10,000 years ago, domesticating plants and animals, thus enabling the growth of civilization. These human societies subsequently expanded, establishing various forms of government, religion, and culture around the world, and unifying people within regions to form states and empires. The rapid advancement of scientific and medical understanding in the 19th and 20th centuries permitted the development of fuel-driven technologies and increased lifespans, causing the human population to rise exponentially. The global human population was estimated to be near 7.8 billion in 2019.\n"
     ]
    }
   ],
   "source": [
    "type_id = 'Q5'\n",
    "print('From {}:'.format(codex.entity_type_wikipedia_url(type_id)))\n",
    "print(' ', codex.entity_type_extract(type_id))"
   ]
  },
  {
   "cell_type": "markdown",
   "metadata": {},
   "source": [
    "Inspect a single relation."
   ]
  },
  {
   "cell_type": "code",
   "execution_count": 9,
   "metadata": {},
   "outputs": [
    {
     "name": "stdout",
     "output_type": "stream",
     "text": [
      "diplomatic relation: diplomatic relations of the country\n"
     ]
    }
   ],
   "source": [
    "rid = 'P530'\n",
    "print(codex.relation_label(rid) + ':', codex.relation_description(rid))"
   ]
  },
  {
   "cell_type": "markdown",
   "metadata": {},
   "source": [
    "Explore some of the negative triples."
   ]
  },
  {
   "cell_type": "code",
   "execution_count": 10,
   "metadata": {},
   "outputs": [
    {
     "name": "stdout",
     "output_type": "stream",
     "text": [
      "CoDEx-S has 1827 validation negatives and 1828 test negatives\n",
      "Samples:\n",
      "  (Ciara, genre, indie pop)\n",
      "  (Angie Stone, country of citizenship, Australia)\n",
      "  (Richard Wright, country of citizenship, Kingdom of Italy)\n",
      "  (François-René de Chateaubriand, place of death, Moscow)\n",
      "  (Spike Milligan, country of citizenship, Austria)\n",
      "CoDEx-M has 10310 validation negatives and 10311 test negatives\n",
      "Samples:\n",
      "  (Gloria Trevi, country of citizenship, Italy)\n",
      "  (Patrice Leconte, place of birth, Athens)\n",
      "  (Alfred de Musset, occupation, literary critic)\n",
      "  (Nathan Glazer, languages spoken, written, or signed, Persian)\n",
      "  (Nyusha, country of citizenship, Italy)\n"
     ]
    }
   ],
   "source": [
    "for size in ('s', 'm'):\n",
    "    codex = Codex(size=size)\n",
    "    valid_neg, test_neg = codex.negative_split('valid'), codex.negative_split('test')\n",
    "    print(\n",
    "        codex.name(), 'has', \n",
    "        len(valid_neg), 'validation negatives and',\n",
    "        len(test_neg), 'test negatives'\n",
    "    )\n",
    "    \n",
    "    print('Samples:')\n",
    "    sample = test_neg.sample(n=5)\n",
    "\n",
    "    for h, r, t in zip(sample['head'], sample['relation'], sample['tail']):\n",
    "        print('  ({}, {}, {})'.format(\n",
    "            codex.entity_label(h), codex.relation_label(r), codex.entity_label(t)))"
   ]
  },
  {
   "cell_type": "markdown",
   "metadata": {},
   "source": [
    "Make sure none of the negative triples are actually positives."
   ]
  },
  {
   "cell_type": "code",
   "execution_count": 11,
   "metadata": {},
   "outputs": [],
   "source": [
    "def triples_to_set(triples):\n",
    "    return set(zip(triples['head'], triples['relation'], triples['tail']))"
   ]
  },
  {
   "cell_type": "code",
   "execution_count": 12,
   "metadata": {},
   "outputs": [
    {
     "name": "stdout",
     "output_type": "stream",
     "text": [
      "Passed all checks successfully\n"
     ]
    }
   ],
   "source": [
    "all_triples = triples_to_set(pd.concat(\n",
    "    [Codex(size=size).triples() for size in sizes]))\n",
    "    \n",
    "for size in ('s', 'm'):\n",
    "    codex = Codex(size=size)\n",
    "    valid_neg, test_neg = codex.negative_split('valid'), codex.negative_split('test')\n",
    "    negs = triples_to_set(pd.concat((valid_neg, test_neg)))\n",
    "    \n",
    "    for neg in negs:\n",
    "        assert neg not in all_triples\n",
    "        \n",
    "print('Passed all checks successfully')"
   ]
  },
  {
   "cell_type": "markdown",
   "metadata": {},
   "source": [
    "# Plotting\n",
    "Plot various properties like degree distribution and top-k entities/relations."
   ]
  },
  {
   "cell_type": "code",
   "execution_count": 13,
   "metadata": {},
   "outputs": [
    {
     "data": {
      "image/png": "[encoded data removed]",
      "text/plain": [
       "<Figure size 720x72 with 1 Axes>"
      ]
     },
     "metadata": {
      "needs_background": "light"
     },
     "output_type": "display_data"
    }
   ],
   "source": [
    "import matplotlib.pyplot as plt\n",
    "import seaborn as sns\n",
    "\n",
    "# Styles from https://scentellegher.github.io/visualization/2018/10/10/beautiful-bar-plots-matplotlib.html\n",
    "\n",
    "plt.rcParams['font.family'] = 'sans-serif'\n",
    "plt.rcParams['font.sans-serif'] = 'Helvetica'\n",
    "\n",
    "plt.rcParams['axes.linewidth'] = 0.8\n",
    "plt.rcParams['legend.frameon'] = False\n",
    "\n",
    "dark_grey = '#333F4B'\n",
    "plt.rcParams['text.color'] = dark_grey\n",
    "keys = [\n",
    "    'axes.edgecolor',\n",
    "    'axes.labelcolor',\n",
    "    'xtick.color',\n",
    "    'ytick.color'\n",
    "]\n",
    "for key in keys:\n",
    "    plt.rcParams[key] = dark_grey\n",
    "\n",
    "palette = sns.color_palette('RdBu', 10)\n",
    "sns.palplot(palette)"
   ]
  },
  {
   "cell_type": "markdown",
   "metadata": {},
   "source": [
    "Plot the degree distribution of CoDEx datasets."
   ]
  },
  {
   "cell_type": "code",
   "execution_count": 14,
   "metadata": {},
   "outputs": [],
   "source": [
    "def count_entities(triples):\n",
    "    \"\"\"\n",
    "    :param triples: pandas DataFrame [head, relation, tail]\n",
    "    :return counts: pandas Dataframe [entity, count]\n",
    "    \"\"\"\n",
    "    entities = pd.concat((triples['head'], triples['tail']))\n",
    "    counts = pd.DataFrame(entities.value_counts().reset_index())\n",
    "    counts.columns = ['entity', 'count']\n",
    "    return counts\n",
    "    \n",
    "    \n",
    "def count_relations(triples):\n",
    "    \"\"\"\n",
    "    :param triples: pandas DataFrame [head, relation, tail]\n",
    "    :return counts: pandas Dataframe [relation, count]\n",
    "    \"\"\"\n",
    "    counts = pd.DataFrame(triples['relation'].value_counts().reset_index())\n",
    "    counts.columns = ['relation', 'count']\n",
    "    return counts"
   ]
  },
  {
   "cell_type": "code",
   "execution_count": 15,
   "metadata": {},
   "outputs": [],
   "source": [
    "def plot_degree_distribution(\n",
    "        triples, step=5, ax=None, \n",
    "        figsize=(5,3), **kwargs):\n",
    "    \"\"\"\n",
    "    :param triples:\n",
    "    :param step:\n",
    "    :param ax:\n",
    "    :param figsize:\n",
    "    :param kwargs:\n",
    "    :return:\n",
    "    \"\"\"\n",
    "    counts = count_entities(triples)['count']\n",
    "    \n",
    "    x = np.arange(0, max(counts), step)\n",
    "    y = [len(counts[counts > val]) for val in x]\n",
    "    y = np.array(y, dtype=np.float32)\n",
    "\n",
    "    if not ax:\n",
    "        fig, ax = plt.subplots(figsize=figsize)\n",
    "    \n",
    "    ax.scatter(x, y, alpha=0.5, **kwargs)\n",
    "    ax.set_xscale('symlog')\n",
    "    ax.set_yscale('symlog')\n",
    "    \n",
    "    ax.set_xlabel('Entity degree', fontsize=14)\n",
    "    ax.set_ylabel(r'Cumulative count', fontsize=12)\n",
    "    \n",
    "    ax.tick_params(\n",
    "        which='both',\n",
    "        labelsize=12\n",
    "    )\n",
    "    \n",
    "    ax.spines['top'].set_color('none')\n",
    "    ax.spines['right'].set_color('none')\n",
    "    ax.spines['left'].set_smart_bounds(True)\n",
    "    ax.spines['bottom'].set_smart_bounds(True)\n",
    "\n",
    "    return ax"
   ]
  },
  {
   "cell_type": "code",
   "execution_count": 16,
   "metadata": {},
   "outputs": [
    {
     "name": "stderr",
     "output_type": "stream",
     "text": [
      "/x/tsafavi/codex/venv/lib/python3.7/site-packages/ipykernel_launcher.py:35: MatplotlibDeprecationWarning: \n",
      "The set_smart_bounds function was deprecated in Matplotlib 3.2 and will be removed two minor releases later.\n",
      "/x/tsafavi/codex/venv/lib/python3.7/site-packages/ipykernel_launcher.py:36: MatplotlibDeprecationWarning: \n",
      "The set_smart_bounds function was deprecated in Matplotlib 3.2 and will be removed two minor releases later.\n",
      "findfont: Font family ['sans-serif'] not found. Falling back to DejaVu Sans.\n",
      "findfont: Font family ['sans-serif'] not found. Falling back to DejaVu Sans.\n"
     ]
    },
    {
     "data": {
      "image/png": "[encoded data removed]",
      "text/plain": [
       "<Figure size 288x144 with 1 Axes>"
      ]
     },
     "metadata": {
      "needs_background": "light"
     },
     "output_type": "display_data"
    },
    {
     "data": {
      "image/png": "[encoded data removed]",
      "text/plain": [
       "<Figure size 288x144 with 1 Axes>"
      ]
     },
     "metadata": {
      "needs_background": "light"
     },
     "output_type": "display_data"
    },
    {
     "data": {
      "image/png": "[encoded data removed]",
      "text/plain": [
       "<Figure size 288x144 with 1 Axes>"
      ]
     },
     "metadata": {
      "needs_background": "light"
     },
     "output_type": "display_data"
    }
   ],
   "source": [
    "for size in sizes:\n",
    "    codex = Codex(size=size)\n",
    "    triples = codex.triples()\n",
    "\n",
    "    ax = plot_degree_distribution(\n",
    "        triples, \n",
    "        color=palette[-1],\n",
    "        step=5,\n",
    "        figsize=(4, 2),\n",
    "        label=codex.name(),\n",
    "    )\n",
    "\n",
    "    legend = ax.legend(\n",
    "        frameon=False, \n",
    "        fontsize=14,\n",
    "        handletextpad=0.001,\n",
    "        labelspacing=0.2,\n",
    "        loc=3\n",
    "    )\n",
    "\n",
    "    for text in legend.get_texts():\n",
    "        text.set_color(dark_grey)\n",
    "\n",
    "    for lh in legend.legendHandles: \n",
    "        lh.set_alpha(0.7)\n",
    "\n",
    "    xlim = ax.get_xlim()\n",
    "    ax.set_xlim(3, max(xlim))\n",
    "\n",
    "    plt.show()"
   ]
  },
  {
   "cell_type": "markdown",
   "metadata": {},
   "source": [
    "Plot the top-k entities and relations in a CoDEx dataset."
   ]
  },
  {
   "cell_type": "code",
   "execution_count": 17,
   "metadata": {},
   "outputs": [],
   "source": [
    "def plot_top_k(count_df, k=30, \n",
    "               label_col='label',\n",
    "               count_col='count',\n",
    "               figsize=(5,8.5),\n",
    "               color='#007acc',\n",
    "               ax=None,\n",
    "               **kwargs):\n",
    "    count_df = count_df.sort_values(count_col, ascending=False).head(k)\n",
    "    top_labels, top_counts = count_df[label_col], count_df[count_col]\n",
    "    \n",
    "    if ax is None:\n",
    "        fig, ax = plt.subplots(figsize=figsize)\n",
    "\n",
    "    x = np.arange(k)\n",
    "    y = top_counts[::-1]\n",
    "        \n",
    "    ax.hlines(\n",
    "        y=x,\n",
    "        xmin=0, \n",
    "        xmax=y, \n",
    "        color=color, \n",
    "        alpha=0.2, \n",
    "        linewidth=5,\n",
    "        **kwargs\n",
    "    )\n",
    "    \n",
    "    ax.plot(\n",
    "        y, x, \"o\", \n",
    "        markersize=7, \n",
    "        color=color, \n",
    "        alpha=0.6)\n",
    "    \n",
    "    ax.spines['top'].set_color('none')\n",
    "    ax.spines['right'].set_color('none')\n",
    "\n",
    "    ax.spines['left'].set_bounds(0, k - 1)\n",
    "    ax.spines['bottom'].set_bounds(0, max(ax.get_xticks()))\n",
    "    \n",
    "    ax.set_xlabel('Count', fontsize=14)\n",
    "\n",
    "    ax.set_yticks(x)\n",
    "    ax.set_yticklabels(top_labels[::-1])\n",
    "    \n",
    "    return ax"
   ]
  },
  {
   "cell_type": "code",
   "execution_count": 18,
   "metadata": {},
   "outputs": [
    {
     "name": "stderr",
     "output_type": "stream",
     "text": [
      "findfont: Font family ['sans-serif'] not found. Falling back to DejaVu Sans.\n",
      "findfont: Font family ['sans-serif'] not found. Falling back to DejaVu Sans.\n"
     ]
    },
    {
     "data": {
      "image/png": "[encoded data removed]",
      "text/plain": [
       "<Figure size 360x612 with 1 Axes>"
      ]
     },
     "metadata": {
      "needs_background": "light"
     },
     "output_type": "display_data"
    }
   ],
   "source": [
    "size = 'l'\n",
    "codex = Codex(size=size)\n",
    "\n",
    "triples = codex.triples()\n",
    "count_df = count_entities(triples)\n",
    "\n",
    "count_df['label'] = [codex.entity_label(eid) for eid in count_df['entity']]\n",
    "\n",
    "k = 30\n",
    "\n",
    "ax = plot_top_k(\n",
    "    count_df, \n",
    "    k=k, \n",
    "    color=palette[-1],\n",
    "    linewidths=6\n",
    ")\n",
    "\n",
    "ax.set_xscale('linear')\n",
    "ax.set_xlabel('Entity degree', fontsize=14)\n",
    "ax.set_title(codex.name(), fontsize=16)\n",
    "ax.tick_params('x', labelsize=12)\n",
    "\n",
    "plt.tight_layout()\n",
    "plt.show()"
   ]
  },
  {
   "cell_type": "code",
   "execution_count": 19,
   "metadata": {},
   "outputs": [
    {
     "data": {
      "image/png": "[encoded data removed]",
      "text/plain": [
       "<Figure size 360x288 with 1 Axes>"
      ]
     },
     "metadata": {
      "needs_background": "light"
     },
     "output_type": "display_data"
    }
   ],
   "source": [
    "count_df = count_relations(triples)\n",
    "count_df['label'] = [codex.relation_label(rid) for rid in count_df['relation']]\n",
    "\n",
    "k = 15\n",
    "\n",
    "ax = plot_top_k(\n",
    "    count_df, \n",
    "    k=k, \n",
    "    color=palette[-1],\n",
    "    linewidths=6,\n",
    "    figsize=(5, 4)\n",
    ")\n",
    "\n",
    "ax.set_xscale('linear')\n",
    "ax.set_xlabel('Mention count', fontsize=14)\n",
    "ax.set_title(codex.name(), fontsize=16)\n",
    "ax.tick_params('x', labelsize=12)\n",
    "\n",
    "plt.tight_layout()\n",
    "plt.show()"
   ]
  },
  {
   "cell_type": "markdown",
   "metadata": {},
   "source": [
    "Investigate symmetry."
   ]
  },
  {
   "cell_type": "code",
   "execution_count": 20,
   "metadata": {},
   "outputs": [],
   "source": [
    "def entity_pairs(triples, reverse=False):\n",
    "    col1, col2 = 'head', 'tail'\n",
    "    if reverse:\n",
    "        col1, col2 = col2, col1\n",
    "    return set(zip(triples[col1], triples[col2]))"
   ]
  },
  {
   "cell_type": "code",
   "execution_count": 21,
   "metadata": {},
   "outputs": [
    {
     "name": "stdout",
     "output_type": "stream",
     "text": [
      "----------CoDEx-S----------\n",
      "  diplomatic relation (P530) | 97.08% symmetry | 16.890% of CoDEx-S\n",
      "  spouse (P26) | 98.46% symmetry | 0.178% of CoDEx-S\n",
      "  sibling (P3373) | 100.00% symmetry | 0.268% of CoDEx-S\n",
      "  unmarried partner (P451) | 78.26% symmetry | 0.126% of CoDEx-S\n",
      "Symmetric relations > 0.5 make up 17.46% of CoDEx-S\n",
      "----------CoDEx-M----------\n",
      "  diplomatic relation (P530) | 97.06% symmetry | 3.019% of CoDEx-M\n",
      "  spouse (P26) | 97.00% symmetry | 0.420% of CoDEx-M\n",
      "  sibling (P3373) | 98.09% symmetry | 0.381% of CoDEx-M\n",
      "  unmarried partner (P451) | 83.97% symmetry | 0.191% of CoDEx-M\n",
      "Symmetric relations > 0.5 make up 4.01% of CoDEx-M\n",
      "----------CoDEx-L----------\n",
      "  diplomatic relation (P530) | 96.80% symmetry | 1.026% of CoDEx-L\n",
      "  spouse (P26) | 89.23% symmetry | 0.358% of CoDEx-L\n",
      "  sibling (P3373) | 76.53% symmetry | 0.471% of CoDEx-L\n",
      "  unmarried partner (P451) | 79.70% symmetry | 0.109% of CoDEx-L\n",
      "  shares border with (P47) | 90.36% symmetry | 1.321% of CoDEx-L\n",
      "Symmetric relations > 0.5 make up 3.29% of CoDEx-L\n"
     ]
    }
   ],
   "source": [
    "threshold = 0.5\n",
    "\n",
    "for size in sizes: \n",
    "    codex = Codex(size=size)\n",
    "    print('----------' + codex.name() + '----------')\n",
    "    relations = codex.relations()\n",
    "    triples = codex.triples()\n",
    "    tot = 0\n",
    "    \n",
    "    for relation in relations:\n",
    "        triples_r = triples[triples['relation'] == relation]\n",
    "        \n",
    "        forward, reverse = entity_pairs(triples_r), \\\n",
    "            entity_pairs(triples_r, reverse=True)\n",
    "        symmetry = len(forward.intersection(reverse)) / len(forward)\n",
    "        percent = len(triples_r) / len(triples)\n",
    "        \n",
    "        if symmetry > threshold:\n",
    "            print(\n",
    "                '  {} ({}) | {:.2f}% symmetry | {:.3f}% of {}'.format(\n",
    "                    codex.relation_label(relation), \n",
    "                    relation,\n",
    "                    symmetry * 100,\n",
    "                    percent * 100,\n",
    "                    codex.name()\n",
    "                )\n",
    "            )\n",
    "            \n",
    "            tot += (percent * 100)\n",
    "                \n",
    "    print('Symmetric relations > {:.1f} make up {:.2f}% of {}'.format(\n",
    "        threshold, tot, codex.name()\n",
    "    ))"
   ]
  },
  {
   "cell_type": "code",
   "execution_count": null,
   "metadata": {},
   "outputs": [
    {
     "name": "stdout",
     "output_type": "stream",
     "text": [
      "----------CoDEx-S----------\n",
      "----------CoDEx-M----------\n"
     ]
    }
   ],
   "source": [
    "threshold = 0.5\n",
    "\n",
    "for size in sizes: \n",
    "    codex = Codex(size=size)\n",
    "    print('----------' + codex.name() + '----------')\n",
    "    relations = codex.relations()\n",
    "    triples = codex.triples()\n",
    "    tot = 0\n",
    "    \n",
    "    rows = []\n",
    "    for relation in relations:\n",
    "        triples_r = triples[triples['relation'] == relation]\n",
    "        \n",
    "        forward, reverse = entity_pairs(triples_r), \\\n",
    "            entity_pairs(triples_r, reverse=True)\n",
    "        symmetry = len(forward.intersection(reverse)) / len(forward)\n",
    "        percent = len(triples_r) / len(triples)\n",
    "        \n",
    "        if symmetry > threshold:\n",
    "            rows.append((\n",
    "                relation,\n",
    "                symmetry * 100,\n",
    "                percent * 100\n",
    "            ))\n",
    "                \n",
    "    df = pd.DataFrame.from_records(\n",
    "        rows, columns=['relation','symmetry','percent_of_triples']\n",
    "    )\n",
    "    df.to_csv(\n",
    "        'analysis/symmetry/codex-{}/symmetry.tsv'.format(size),\n",
    "        index=False, sep='\\t'\n",
    "    )"
   ]
  },
  {
   "cell_type": "markdown",
   "metadata": {},
   "source": [
    "Investigate compositionality."
   ]
  },
  {
   "cell_type": "code",
   "execution_count": null,
   "metadata": {},
   "outputs": [],
   "source": [
    "import os"
   ]
  },
  {
   "cell_type": "code",
   "execution_count": null,
   "metadata": {},
   "outputs": [],
   "source": [
    "def rule_relations(rule):\n",
    "    return [item for item in rule.split(' ') if item.startswith('P')]"
   ]
  },
  {
   "cell_type": "code",
   "execution_count": null,
   "metadata": {},
   "outputs": [],
   "source": [
    "for size in sizes:\n",
    "    codex = Codex(size=size)\n",
    "    name = codex.name()\n",
    "    print('----------' + name + '----------')\n",
    "    \n",
    "    rule_df = pd.read_csv(\n",
    "        os.path.join('analysis/paths', 'codex-{}'.format(size), 'paths.tsv'), sep='\\t'\n",
    "    )\n",
    "        \n",
    "    # Count number of paths in this core\n",
    "    # Get the average confidence across all rules\n",
    "    print(\n",
    "        len(rule_df), 'paths in', name\n",
    "    )\n",
    "    print('Average confidence: {:.3f}'.format(\n",
    "        rule_df['PCA Confidence'].mean()))\n",
    "    print('n pos / n triples: {:.2f}%'.format(\n",
    "        np.sum(np.multiply(rule_df['Positive Examples'], rule_df['Length'])) / len(codex.triples()) * 100\n",
    "    ))\n",
    "        \n",
    "    # Print a few examples\n",
    "    print('Examples:')\n",
    "    for length in (2, 3):\n",
    "        df = rule_df[rule_df['Length'] == length]\n",
    "        sample = df.sample(n=1)\n",
    "        rule, conf = sample['Rule'].iloc[0], sample['PCA Confidence'].iloc[0]\n",
    "        relations = rule_relations(rule)\n",
    "        \n",
    "        print(\n",
    "            ' ',\n",
    "            '/'.join([codex.relation_label(relation) for relation in relations[:-1]]), \n",
    "            '->', \n",
    "            codex.relation_label(relations[-1]),\n",
    "            '(confidence {:.3f})'.format(conf)\n",
    "        )"
   ]
  },
  {
   "cell_type": "code",
   "execution_count": null,
   "metadata": {},
   "outputs": [],
   "source": []
  }
 ],
 "metadata": {
  "kernelspec": {
   "display_name": "Python 3",
   "language": "python",
   "name": "python3"
  },
  "language_info": {
   "codemirror_mode": {
    "name": "ipython",
    "version": 3
   },
   "file_extension": ".py",
   "mimetype": "text/x-python",
   "name": "python",
   "nbconvert_exporter": "python",
   "pygments_lexer": "ipython3",
   "version": "3.7.5"
  }
 },
 "nbformat": 4,
 "nbformat_minor": 4
}
