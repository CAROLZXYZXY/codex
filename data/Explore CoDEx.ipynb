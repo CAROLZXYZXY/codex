{
 "cells": [
  {
   "cell_type": "code",
   "execution_count": null,
   "metadata": {},
   "outputs": [],
   "source": [
    "import numpy as np\n",
    "import pandas as pd\n",
    "\n",
    "import codex"
   ]
  },
  {
   "cell_type": "code",
   "execution_count": null,
   "metadata": {},
   "outputs": [],
   "source": [
    "codes = ['ar', 'de', 'en', 'es', 'ru', 'zh']\n",
    "sizes = ['s', 'm', 'l']"
   ]
  },
  {
   "cell_type": "markdown",
   "metadata": {},
   "source": [
    "# Data exploration\n",
    "Load our data and do basic exploratory analysis."
   ]
  },
  {
   "cell_type": "code",
   "execution_count": null,
   "metadata": {},
   "outputs": [],
   "source": [
    "for size in sizes:\n",
    "    Codex = codex.Codex(size=size)\n",
    "    \n",
    "    train, valid, test = [\n",
    "        Codex.split(split) for split in ('train', 'valid', 'test')]\n",
    "    triples = Codex.triples()\n",
    "    \n",
    "    print(Codex.name())\n",
    "    \n",
    "    print(\n",
    "        '\\t', len(Codex.entities()), 'entities /',\n",
    "        len(Codex.relations()), 'relations'\n",
    "    )\n",
    "        \n",
    "    print(\n",
    "        '\\t', len(train), 'train /',\n",
    "        len(valid), 'validation /',\n",
    "        len(test), 'test'\n",
    "    )\n",
    "    print('\\t', len(triples), 'total triples')"
   ]
  },
  {
   "cell_type": "markdown",
   "metadata": {},
   "source": [
    "Get multilingual coverage."
   ]
  },
  {
   "cell_type": "code",
   "execution_count": null,
   "metadata": {},
   "outputs": [],
   "source": [
    "for size in sizes:\n",
    "    print(codex.Codex(size=size).name())\n",
    "    \n",
    "    for code in codes:\n",
    "        Codex = codex.Codex(code=code, size=size)\n",
    "        entities = Codex.entities()\n",
    "        relations = Codex.relations()\n",
    "        \n",
    "        retrieved = []\n",
    "        \n",
    "        for eid in entities:\n",
    "            # Does this entity have all its textual information?\n",
    "            retrieved.append(bool(Codex.entity_label(eid)))\n",
    "            retrieved.append(bool(Codex.entity_description(eid)))\n",
    "            retrieved.append(bool(Codex.entity_extract(eid)))\n",
    "            \n",
    "            # Does this entity's types have textual information?\n",
    "            for type_id in Codex.entity_types(eid):\n",
    "                retrieved.append(bool(Codex.entity_type_label(type_id)))\n",
    "                retrieved.append(bool(Codex.entity_type_description(type_id)))\n",
    "                retrieved.append(bool(Codex.entity_type_extract(type_id)))\n",
    "            \n",
    "        # Does this relation have textual information?\n",
    "        for rid in relations:\n",
    "            retrieved.append(bool(Codex.relation_label(rid)))\n",
    "            retrieved.append(bool(Codex.relation_description(rid)))\n",
    "\n",
    "        print('\\t{} coverage: {:.2f}%'.format(\n",
    "            code, np.mean(retrieved) * 100))"
   ]
  },
  {
   "cell_type": "markdown",
   "metadata": {},
   "source": [
    "Inspect a single entity."
   ]
  },
  {
   "cell_type": "code",
   "execution_count": null,
   "metadata": {},
   "outputs": [],
   "source": [
    "eid = 'Q18'\n",
    "\n",
    "for code in codes:\n",
    "    Codex = codex.Codex(code=code)\n",
    "    print(Codex.entity_label(eid))"
   ]
  },
  {
   "cell_type": "code",
   "execution_count": null,
   "metadata": {},
   "outputs": [],
   "source": [
    "Codex = codex.Codex(code='en')\n",
    "Codex.entity_extract(eid)"
   ]
  },
  {
   "cell_type": "code",
   "execution_count": null,
   "metadata": {},
   "outputs": [],
   "source": [
    "Codex = codex.Codex(code='es')\n",
    "Codex.entity_extract(eid)"
   ]
  },
  {
   "cell_type": "markdown",
   "metadata": {},
   "source": [
    "Explore entity types."
   ]
  },
  {
   "cell_type": "code",
   "execution_count": null,
   "metadata": {},
   "outputs": [],
   "source": [
    "Codex = codex.Codex(code='en')\n",
    "types = Codex.entity_types(eid)\n",
    "for etype in types:\n",
    "    print(Codex.entity_label(eid), 'is of type', Codex.entity_type_label(etype))"
   ]
  },
  {
   "cell_type": "code",
   "execution_count": null,
   "metadata": {},
   "outputs": [],
   "source": [
    "type_id = 'Q5'\n",
    "Codex.entity_type_extract(type_id)"
   ]
  },
  {
   "cell_type": "markdown",
   "metadata": {},
   "source": [
    "Inspect a single relation."
   ]
  },
  {
   "cell_type": "code",
   "execution_count": null,
   "metadata": {},
   "outputs": [],
   "source": [
    "rid = 'P530'\n",
    "print(Codex.relation_label(rid) + ':', Codex.relation_description(rid))"
   ]
  },
  {
   "cell_type": "markdown",
   "metadata": {},
   "source": [
    "Make sure all entities in valid/test are seen in train."
   ]
  },
  {
   "cell_type": "code",
   "execution_count": null,
   "metadata": {},
   "outputs": [],
   "source": [
    "for size in sizes:\n",
    "    Codex = codex.Codex(size=size)\n",
    "    train, valid, test = [\n",
    "        Codex.split(split) for split in ('train', 'valid', 'test')]\n",
    "    \n",
    "    train_entities = set(pd.concat((train['head'], train['tail'])))\n",
    "    train_relations = set(train['relation'])\n",
    "    \n",
    "    for df in (valid, test):\n",
    "        for head, relation, tail in zip(df['head'], df['relation'], df['tail']):\n",
    "            assert head in train_entities\n",
    "            assert relation in train_relations\n",
    "            assert tail in train_entities\n",
    "            \n",
    "print('Passed all checks successfully')"
   ]
  },
  {
   "cell_type": "markdown",
   "metadata": {},
   "source": [
    "Explore some of the negative triples."
   ]
  },
  {
   "cell_type": "code",
   "execution_count": null,
   "metadata": {},
   "outputs": [],
   "source": [
    "Codex = codex.Codex(size='s')\n",
    "\n",
    "valid_neg, test_neg = Codex.negative_split('valid'), Codex.negative_split('test')\n",
    "\n",
    "print(\n",
    "    len(valid_neg), 'validation negatives |',\n",
    "    len(test_neg), 'test negatives'\n",
    ")"
   ]
  },
  {
   "cell_type": "code",
   "execution_count": null,
   "metadata": {},
   "outputs": [],
   "source": [
    "sample = test_neg.sample(n=5)\n",
    "\n",
    "for h, r, t in zip(sample['head'], sample['relation'], sample['tail']):\n",
    "    print('({}, {}, {})'.format(\n",
    "        Codex.entity_label(h), Codex.relation_label(r), Codex.entity_label(t)))"
   ]
  },
  {
   "cell_type": "markdown",
   "metadata": {},
   "source": [
    "Make sure none of the negative triples are actually positives in our dataset, and that all negatives contain entities seen in the CoDEx cores. "
   ]
  },
  {
   "cell_type": "code",
   "execution_count": null,
   "metadata": {},
   "outputs": [],
   "source": [
    "def triples_to_set(triples):\n",
    "    return set(zip(triples['head'], triples['relation'], triples['tail']))\n",
    "\n",
    "negs = triples_to_set(pd.concat((valid_neg, test_neg)))\n",
    "\n",
    "for size in ('m', 'l'):\n",
    "    Codex = codex.Codex(size=size)\n",
    "    train = Codex.split('train')\n",
    "    entities = set(pd.concat((train['head'], train['tail'])))\n",
    "    relations = set(train['relation'])\n",
    "    triples = triples_to_set(Codex.triples())\n",
    "    \n",
    "    for neg in negs:\n",
    "        assert neg not in triples\n",
    "        h, r, t = neg\n",
    "        assert h in entities\n",
    "        assert r in relations\n",
    "        assert t in entities"
   ]
  },
  {
   "cell_type": "markdown",
   "metadata": {},
   "source": [
    "# Plotting\n",
    "Plot various properties like degree distribution and top-k entities/relations."
   ]
  },
  {
   "cell_type": "code",
   "execution_count": null,
   "metadata": {},
   "outputs": [],
   "source": [
    "import matplotlib.pyplot as plt\n",
    "import seaborn as sns\n",
    "\n",
    "# Styles from https://scentellegher.github.io/visualization/2018/10/10/beautiful-bar-plots-matplotlib.html\n",
    "\n",
    "plt.rcParams['font.family'] = 'sans-serif'\n",
    "plt.rcParams['font.sans-serif'] = 'Helvetica'\n",
    "\n",
    "plt.rcParams['axes.linewidth'] = 0.8\n",
    "plt.rcParams['legend.frameon'] = False\n",
    "\n",
    "dark_grey = '#333F4B'\n",
    "plt.rcParams['text.color'] = dark_grey\n",
    "keys = [\n",
    "    'axes.edgecolor',\n",
    "    'axes.labelcolor',\n",
    "    'xtick.color',\n",
    "    'ytick.color'\n",
    "]\n",
    "for key in keys:\n",
    "    plt.rcParams[key] = dark_grey\n",
    "\n",
    "palette = sns.color_palette('RdBu', 10)\n",
    "sns.palplot(palette)"
   ]
  },
  {
   "cell_type": "markdown",
   "metadata": {},
   "source": [
    "Plot the degree distribution of CoDEx datasets."
   ]
  },
  {
   "cell_type": "code",
   "execution_count": null,
   "metadata": {},
   "outputs": [],
   "source": [
    "def count_entities(triples):\n",
    "    \"\"\"\n",
    "    :param triples: pandas DataFrame [head, relation, tail]\n",
    "    :return counts: pandas Dataframe [entity, count]\n",
    "    \"\"\"\n",
    "    entities = pd.concat((triples['head'], triples['tail']))\n",
    "    counts = pd.DataFrame(entities.value_counts().reset_index())\n",
    "    counts.columns = ['entity', 'count']\n",
    "    return counts\n",
    "    \n",
    "    \n",
    "def count_relations(triples):\n",
    "    \"\"\"\n",
    "    :param triples: pandas DataFrame [head, relation, tail]\n",
    "    :return counts: pandas Dataframe [relation, count]\n",
    "    \"\"\"\n",
    "    counts = pd.DataFrame(triples['relation'].value_counts().reset_index())\n",
    "    counts.columns = ['relation', 'count']\n",
    "    return counts"
   ]
  },
  {
   "cell_type": "code",
   "execution_count": null,
   "metadata": {},
   "outputs": [],
   "source": [
    "def plot_degree_distribution(\n",
    "        triples, step=5, ax=None, \n",
    "        figsize=(5,3), **kwargs):\n",
    "    \"\"\"\n",
    "    :param triples:\n",
    "    :param step:\n",
    "    :param ax:\n",
    "    :param figsize:\n",
    "    :param kwargs:\n",
    "    :return:\n",
    "    \"\"\"\n",
    "    counts = count_entities(triples)['count']\n",
    "    \n",
    "    x = np.arange(0, max(counts), step)\n",
    "    y = [len(counts[counts > val]) for val in x]\n",
    "    y = np.array(y, dtype=np.float32)\n",
    "\n",
    "    if not ax:\n",
    "        fig, ax = plt.subplots(figsize=figsize)\n",
    "    \n",
    "    ax.scatter(x, y, alpha=0.5, **kwargs)\n",
    "    ax.set_xscale('symlog')\n",
    "    ax.set_yscale('symlog')\n",
    "    \n",
    "    ax.set_xlabel('Entity degree', fontsize=14)\n",
    "    ax.set_ylabel(r'Cumulative count', fontsize=12)\n",
    "    \n",
    "    ax.tick_params(\n",
    "        which='both',\n",
    "        labelsize=12\n",
    "    )\n",
    "    \n",
    "    ax.spines['top'].set_color('none')\n",
    "    ax.spines['right'].set_color('none')\n",
    "    ax.spines['left'].set_smart_bounds(True)\n",
    "    ax.spines['bottom'].set_smart_bounds(True)\n",
    "\n",
    "    return ax"
   ]
  },
  {
   "cell_type": "code",
   "execution_count": null,
   "metadata": {},
   "outputs": [],
   "source": [
    "for size in sizes:\n",
    "    Codex = codex.Codex(size=size)\n",
    "    triples = Codex.triples()\n",
    "\n",
    "    ax = plot_degree_distribution(\n",
    "        triples, \n",
    "        color=palette[-1],\n",
    "        step=5,\n",
    "        figsize=(4, 2),\n",
    "        label=Codex.name(),\n",
    "    )\n",
    "\n",
    "    legend = ax.legend(\n",
    "        frameon=False, \n",
    "        fontsize=14,\n",
    "        handletextpad=0.001,\n",
    "        labelspacing=0.2,\n",
    "        loc=3\n",
    "    )\n",
    "\n",
    "    for text in legend.get_texts():\n",
    "        text.set_color(dark_grey)\n",
    "\n",
    "    for lh in legend.legendHandles: \n",
    "        lh.set_alpha(0.7)\n",
    "\n",
    "    xlim = ax.get_xlim()\n",
    "    ax.set_xlim(3, max(xlim))\n",
    "\n",
    "    plt.show()"
   ]
  },
  {
   "cell_type": "markdown",
   "metadata": {},
   "source": [
    "Plot the top-k entities and relations in a CoDEx dataset."
   ]
  },
  {
   "cell_type": "code",
   "execution_count": null,
   "metadata": {},
   "outputs": [],
   "source": [
    "def plot_top_k(count_df, k=30, \n",
    "               label_col='label',\n",
    "               count_col='count',\n",
    "               figsize=(5,8.5),\n",
    "               color='#007acc',\n",
    "               ax=None,\n",
    "               **kwargs):\n",
    "    count_df = count_df.sort_values(count_col, ascending=False).head(k)\n",
    "    top_labels, top_counts = count_df[label_col], count_df[count_col]\n",
    "    \n",
    "    if ax is None:\n",
    "        fig, ax = plt.subplots(figsize=figsize)\n",
    "\n",
    "    x = np.arange(k)\n",
    "    y = top_counts[::-1]\n",
    "        \n",
    "    ax.hlines(\n",
    "        y=x,\n",
    "        xmin=0, \n",
    "        xmax=y, \n",
    "        color=color, \n",
    "        alpha=0.2, \n",
    "        linewidth=5,\n",
    "        **kwargs\n",
    "    )\n",
    "    \n",
    "    ax.plot(\n",
    "        y, x, \"o\", \n",
    "        markersize=7, \n",
    "        color=color, \n",
    "        alpha=0.6)\n",
    "    \n",
    "    ax.spines['top'].set_color('none')\n",
    "    ax.spines['right'].set_color('none')\n",
    "\n",
    "    ax.spines['left'].set_bounds(0, k - 1)\n",
    "    ax.spines['bottom'].set_bounds(0, max(ax.get_xticks()))\n",
    "    \n",
    "    ax.set_xlabel('Count', fontsize=14)\n",
    "\n",
    "    ax.set_yticks(x)\n",
    "    ax.set_yticklabels(top_labels[::-1])\n",
    "    \n",
    "    return ax"
   ]
  },
  {
   "cell_type": "code",
   "execution_count": null,
   "metadata": {},
   "outputs": [],
   "source": [
    "size = 'l'\n",
    "Codex = codex.Codex(size=size)\n",
    "\n",
    "triples = Codex.triples()\n",
    "count_df = count_entities(triples)\n",
    "\n",
    "count_df['label'] = [Codex.entity_label(eid) for eid in count_df['entity']]\n",
    "\n",
    "k = 30\n",
    "\n",
    "ax = plot_top_k(\n",
    "    count_df, \n",
    "    k=k, \n",
    "    color=palette[-1],\n",
    "    linewidths=6\n",
    ")\n",
    "\n",
    "ax.set_xscale('linear')\n",
    "ax.set_xlabel('Entity degree', fontsize=14)\n",
    "ax.set_title(Codex.name(), fontsize=16)\n",
    "ax.tick_params('x', labelsize=12)\n",
    "\n",
    "plt.tight_layout()\n",
    "plt.show()"
   ]
  },
  {
   "cell_type": "code",
   "execution_count": null,
   "metadata": {},
   "outputs": [],
   "source": [
    "count_df = count_relations(triples)\n",
    "count_df['label'] = [Codex.relation_label(rid) for rid in count_df['relation']]\n",
    "\n",
    "k = 15\n",
    "\n",
    "ax = plot_top_k(\n",
    "    count_df, \n",
    "    k=k, \n",
    "    color=palette[-1],\n",
    "    linewidths=6,\n",
    "    figsize=(5, 4)\n",
    ")\n",
    "\n",
    "ax.set_xscale('linear')\n",
    "ax.set_xlabel('Mention count', fontsize=14)\n",
    "ax.set_title(Codex.name(), fontsize=16)\n",
    "ax.tick_params('x', labelsize=12)\n",
    "\n",
    "plt.tight_layout()\n",
    "plt.show()"
   ]
  },
  {
   "cell_type": "markdown",
   "metadata": {},
   "source": [
    "Investigate symmetry."
   ]
  },
  {
   "cell_type": "code",
   "execution_count": null,
   "metadata": {},
   "outputs": [],
   "source": [
    "def entity_pairs(triples, reverse=False):\n",
    "    col1, col2 = 'head', 'tail'\n",
    "    if reverse:\n",
    "        col1, col2 = col2, col1\n",
    "    return set(zip(triples[col1], triples[col2]))"
   ]
  },
  {
   "cell_type": "code",
   "execution_count": null,
   "metadata": {},
   "outputs": [],
   "source": [
    "threshold = 0.7\n",
    "\n",
    "for size in sizes: \n",
    "    Codex = codex.Codex(size=size)\n",
    "    print('----------' + Codex.name() + '----------')\n",
    "    relations = Codex.relations()\n",
    "    \n",
    "    train, valid, test = [\n",
    "        Codex.split(split) for split in ('train', 'valid', 'test')\n",
    "    ]\n",
    "    \n",
    "    tot = 0\n",
    "    \n",
    "    for relation in relations:\n",
    "        train_r, valid_r, test_r = [\n",
    "            df[df['relation'] == relation]\n",
    "            for df in (train, valid, test)\n",
    "        ]\n",
    "        \n",
    "        train_pairs = entity_pairs(train_r)\n",
    "        test_pairs = entity_pairs(\n",
    "            pd.concat((valid_r, test_r)), reverse=True)\n",
    "        \n",
    "        if len(test_pairs):\n",
    "            n_match = len(train_pairs.intersection(test_pairs))\n",
    "            symmetry = n_match / len(test_pairs)\n",
    "            percent_valid_test = (len(valid_r) + len(test_r)) / (len(valid) + len(test))\n",
    "            \n",
    "            if symmetry > threshold:\n",
    "                print(\n",
    "                    '{} | {:.2f}% symmetry | {:.3f}% of valid/test'.format(\n",
    "                        Codex.relation_label(relation), \n",
    "                        symmetry * 100,\n",
    "                        percent_valid_test * 100,\n",
    "                    )\n",
    "                )\n",
    "                \n",
    "                tot += (percent_valid_test * 100)\n",
    "                \n",
    "    print('Symmetric relations > {:.1f} make up {:.3f}% of validation/test in {}'.format(\n",
    "        threshold, tot, Codex.name()\n",
    "    ))"
   ]
  },
  {
   "cell_type": "markdown",
   "metadata": {},
   "source": [
    "Investigate compositionality."
   ]
  },
  {
   "cell_type": "code",
   "execution_count": null,
   "metadata": {},
   "outputs": [],
   "source": [
    "import os\n",
    "import random"
   ]
  },
  {
   "cell_type": "code",
   "execution_count": null,
   "metadata": {},
   "outputs": [],
   "source": [
    "def rule_relations(rule):\n",
    "    return [item for item in rule.split(' ') if item.startswith('P')]"
   ]
  },
  {
   "cell_type": "code",
   "execution_count": null,
   "metadata": {},
   "outputs": [],
   "source": [
    "amie_dir = 'paths/'\n",
    "\n",
    "for size in sizes:\n",
    "    Codex = codex.Codex(size=size)\n",
    "    name = Codex.name()\n",
    "    print('----------' + name + '----------')\n",
    "    \n",
    "    rule_file = 'codex-{}.tsv'.format(size)\n",
    "\n",
    "    rule_df = pd.read_csv(\n",
    "        os.path.join(amie_dir, rule_file), sep='\\t'\n",
    "    )\n",
    "\n",
    "    rules_of_length = {}\n",
    "    for length in (2, 3):\n",
    "        df = rule_df[rule_df['Length'] == length]\n",
    "        rules = {rule: float(conf) for rule, conf in\n",
    "                 zip(df['Rule'], df['PCA Confidence'])}\n",
    "\n",
    "        print('{} rules of length {}: {:.3f} average confidence'.format(\n",
    "            len(rules), length, np.mean(list(rules.values()))\n",
    "        ))\n",
    "\n",
    "        rules_of_length[length] = rules\n",
    "        \n",
    "    # Count number of paths in this core\n",
    "    print(\n",
    "        sum([len(values) for values in rules_of_length.values()]),\n",
    "        'paths in', name\n",
    "    )\n",
    "\n",
    "    # Get the average confidence across all rules\n",
    "    avg_conf = []\n",
    "    for rules in rules_of_length.values():\n",
    "        avg_conf.extend(list(rules.values()))\n",
    "    print('Average confidence: {:.3f}'.format(np.mean(avg_conf)))\n",
    "    \n",
    "    # Count number of valid/test triples containing relations in paths\n",
    "    compositional_relations = set()\n",
    "    \n",
    "    for length in (2, 3):\n",
    "        for rule in rules_of_length[length]:\n",
    "            last_relation = rule_relations(rule)[-1]\n",
    "            compositional_relations.add(last_relation)\n",
    "            \n",
    "    test = pd.concat((Codex.split('valid'), Codex.split('test')))\n",
    "    percent_comp = len(test[test['relation'].isin(compositional_relations)]) / len(test)\n",
    "            \n",
    "    print(\n",
    "        '{:.2f}% of validation/test triples contain entailed relations'.format(\n",
    "            percent_comp * 100)\n",
    "    )\n",
    "    \n",
    "    # Print a few examples\n",
    "    print('Examples:')\n",
    "    for length in (2, 3):\n",
    "        rules = rules_of_length[length]\n",
    "        rule = random.choice(list(rules.keys()))\n",
    "        \n",
    "        relations = rule_relations(rule)\n",
    "        print(\n",
    "            '\\t',\n",
    "            '/'.join([Codex.relation_label(relation) for relation in relations[:-1]]), \n",
    "            '-->', \n",
    "            Codex.relation_label(relations[-1]),\n",
    "            '(confidence {:.3f})'.format(rules[rule])\n",
    "        )"
   ]
  },
  {
   "cell_type": "code",
   "execution_count": null,
   "metadata": {},
   "outputs": [],
   "source": []
  }
 ],
 "metadata": {
  "kernelspec": {
   "display_name": "Python 3",
   "language": "python",
   "name": "python3"
  },
  "language_info": {
   "codemirror_mode": {
    "name": "ipython",
    "version": 3
   },
   "file_extension": ".py",
   "mimetype": "text/x-python",
   "name": "python",
   "nbconvert_exporter": "python",
   "pygments_lexer": "ipython3",
   "version": "3.6.9"
  }
 },
 "nbformat": 4,
 "nbformat_minor": 2
}
